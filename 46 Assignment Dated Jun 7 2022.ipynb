{
 "cells": [
  {
   "cell_type": "markdown",
   "metadata": {},
   "source": [
    "# 46 Assignment Dated Jun 7 2022"
   ]
  },
  {
   "cell_type": "markdown",
   "metadata": {},
   "source": [
    "### Assignment # 1\n",
    "Create a function in python to read the text file and replace specific content\n",
    "of the fil"
   ]
  },
  {
   "cell_type": "code",
   "execution_count": 71,
   "metadata": {},
   "outputs": [],
   "source": [
    "def file_processing():\n",
    "    import os\n",
    "    with open('example.txt',\"r+\") as file:   # opening file in read-write mode\n",
    "        record = str(file.readlines()[0]).replace('placement','screening')\n",
    "        file.seek(0, os.SEEK_SET)          # put the pointer to beginig of the file\n",
    "        file.write(record)"
   ]
  },
  {
   "cell_type": "code",
   "execution_count": 72,
   "metadata": {},
   "outputs": [],
   "source": [
    "file_processing()"
   ]
  },
  {
   "cell_type": "markdown",
   "metadata": {},
   "source": [
    "### Assignment # 2:\n",
    "Demonstrate use of abstract class, multiple inheritance and decorator in\n",
    "python using examples"
   ]
  },
  {
   "cell_type": "code",
   "execution_count": 73,
   "metadata": {},
   "outputs": [
    {
     "name": "stdout",
     "output_type": "stream",
     "text": [
      "Chicken can not fly \n",
      "Pegion can fly\n"
     ]
    }
   ],
   "source": [
    "# Abstract class\n",
    "from abc import ABC \n",
    "class Bird(ABC):   # Base Abstract Class\n",
    "    def fly_or_not(self):\n",
    "        pass\n",
    "\n",
    "class Chicken(Bird):  # Chicken inherits from parent Class Bird\n",
    "    def fly_or_not(self):\n",
    "        print(\"Chicken can not fly \")\n",
    "\n",
    "class Pegion(Bird):  # Chicken inherits from parent Class Bird\n",
    "    def fly_or_not(self):\n",
    "        print(\"Pegion can fly\")\n",
    "\n",
    "chick = Chicken()   # create Object of Chicken\n",
    "chick.fly_or_not()\n",
    "\n",
    "squabs = Pegion()   # Create object of Pegion\n",
    "squabs.fly_or_not()"
   ]
  },
  {
   "cell_type": "code",
   "execution_count": 74,
   "metadata": {},
   "outputs": [
    {
     "name": "stdout",
     "output_type": "stream",
     "text": [
      "I am a Dog and I bark\n"
     ]
    }
   ],
   "source": [
    "# inheritence , Constructor, Method Overriding and Decorator\n",
    "class Animal():\n",
    "    count = 0\n",
    "    def __init__(self, name, age):  # costructors\n",
    "        self.name = name\n",
    "        self.age = age \n",
    "\n",
    "    def speak(self):\n",
    "        print(\"I am not sure , how Am I speaking\")\n",
    "    \n",
    "    @classmethod            # decorator\n",
    "    def classMethod(cls):\n",
    "        cls.count +=1        # class specific method\n",
    "\n",
    "\n",
    "class Dog(Animal):\n",
    "    def __init__(self, name, age):\n",
    "        super().__init__(name, age)  # This will call the Animal classes constructor method\n",
    "    \n",
    "    # Method Overriding\n",
    "    def speak(self):\n",
    "        print(\"I am a Dog and I bark\")\n",
    "\n",
    "\n",
    "bulldog = Dog(\"BullDog\", 5)\n",
    "bulldog.speak() \n"
   ]
  },
  {
   "cell_type": "code",
   "execution_count": 75,
   "metadata": {},
   "outputs": [
    {
     "name": "stdout",
     "output_type": "stream",
     "text": [
      "I am a hybrid animal\n"
     ]
    }
   ],
   "source": [
    "# multiple inheritence\n",
    "class Tiger():\n",
    "    def m(self):\n",
    "        print('I am from the Tigers family')\n",
    "\n",
    "class Lion():\n",
    "    def m(self):\n",
    "        print('I am from the Lions Family')\n",
    "        \n",
    "class Liger(Tiger,Lion):\n",
    "    def m(self):\n",
    "        print('I am a hybrid animal')\n",
    "\n",
    "liger = Liger()\n",
    "liger.m()"
   ]
  },
  {
   "cell_type": "code",
   "execution_count": null,
   "metadata": {},
   "outputs": [],
   "source": []
  }
 ],
 "metadata": {
  "kernelspec": {
   "display_name": "Python 3",
   "language": "python",
   "name": "python3"
  },
  "language_info": {
   "codemirror_mode": {
    "name": "ipython",
    "version": 3
   },
   "file_extension": ".py",
   "mimetype": "text/x-python",
   "name": "python",
   "nbconvert_exporter": "python",
   "pygments_lexer": "ipython3",
   "version": "3.8.5"
  }
 },
 "nbformat": 4,
 "nbformat_minor": 4
}
